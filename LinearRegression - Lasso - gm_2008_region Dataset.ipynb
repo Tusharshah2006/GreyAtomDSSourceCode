{
 "cells": [
  {
   "cell_type": "code",
   "execution_count": 46,
   "metadata": {},
   "outputs": [],
   "source": [
    "import pandas as pd\n",
    "import numpy as np\n",
    "import matplotlib.pyplot as plot\n",
    "\n",
    "from sklearn.linear_model import LinearRegression, Lasso\n",
    "from sklearn.model_selection import train_test_split as tts, cross_val_score\n",
    "from sklearn.metrics import mean_squared_error"
   ]
  },
  {
   "cell_type": "code",
   "execution_count": 12,
   "metadata": {},
   "outputs": [
    {
     "data": {
      "text/html": [
       "<div>\n",
       "<style scoped>\n",
       "    .dataframe tbody tr th:only-of-type {\n",
       "        vertical-align: middle;\n",
       "    }\n",
       "\n",
       "    .dataframe tbody tr th {\n",
       "        vertical-align: top;\n",
       "    }\n",
       "\n",
       "    .dataframe thead th {\n",
       "        text-align: right;\n",
       "    }\n",
       "</style>\n",
       "<table border=\"1\" class=\"dataframe\">\n",
       "  <thead>\n",
       "    <tr style=\"text-align: right;\">\n",
       "      <th></th>\n",
       "      <th>population</th>\n",
       "      <th>fertility</th>\n",
       "      <th>HIV</th>\n",
       "      <th>CO2</th>\n",
       "      <th>BMI_male</th>\n",
       "      <th>GDP</th>\n",
       "      <th>BMI_female</th>\n",
       "      <th>life</th>\n",
       "      <th>child_mortality</th>\n",
       "      <th>Region</th>\n",
       "    </tr>\n",
       "  </thead>\n",
       "  <tbody>\n",
       "    <tr>\n",
       "      <th>0</th>\n",
       "      <td>34811059.0</td>\n",
       "      <td>2.73</td>\n",
       "      <td>0.1</td>\n",
       "      <td>3.328945</td>\n",
       "      <td>24.59620</td>\n",
       "      <td>12314.0</td>\n",
       "      <td>129.9049</td>\n",
       "      <td>75.3</td>\n",
       "      <td>29.5</td>\n",
       "      <td>Middle East &amp; North Africa</td>\n",
       "    </tr>\n",
       "    <tr>\n",
       "      <th>1</th>\n",
       "      <td>19842251.0</td>\n",
       "      <td>6.43</td>\n",
       "      <td>2.0</td>\n",
       "      <td>1.474353</td>\n",
       "      <td>22.25083</td>\n",
       "      <td>7103.0</td>\n",
       "      <td>130.1247</td>\n",
       "      <td>58.3</td>\n",
       "      <td>192.0</td>\n",
       "      <td>Sub-Saharan Africa</td>\n",
       "    </tr>\n",
       "    <tr>\n",
       "      <th>2</th>\n",
       "      <td>40381860.0</td>\n",
       "      <td>2.24</td>\n",
       "      <td>0.5</td>\n",
       "      <td>4.785170</td>\n",
       "      <td>27.50170</td>\n",
       "      <td>14646.0</td>\n",
       "      <td>118.8915</td>\n",
       "      <td>75.5</td>\n",
       "      <td>15.4</td>\n",
       "      <td>America</td>\n",
       "    </tr>\n",
       "    <tr>\n",
       "      <th>3</th>\n",
       "      <td>2975029.0</td>\n",
       "      <td>1.40</td>\n",
       "      <td>0.1</td>\n",
       "      <td>1.804106</td>\n",
       "      <td>25.35542</td>\n",
       "      <td>7383.0</td>\n",
       "      <td>132.8108</td>\n",
       "      <td>72.5</td>\n",
       "      <td>20.0</td>\n",
       "      <td>Europe &amp; Central Asia</td>\n",
       "    </tr>\n",
       "    <tr>\n",
       "      <th>4</th>\n",
       "      <td>21370348.0</td>\n",
       "      <td>1.96</td>\n",
       "      <td>0.1</td>\n",
       "      <td>18.016313</td>\n",
       "      <td>27.56373</td>\n",
       "      <td>41312.0</td>\n",
       "      <td>117.3755</td>\n",
       "      <td>81.5</td>\n",
       "      <td>5.2</td>\n",
       "      <td>East Asia &amp; Pacific</td>\n",
       "    </tr>\n",
       "  </tbody>\n",
       "</table>\n",
       "</div>"
      ],
      "text/plain": [
       "   population  fertility  HIV        CO2  BMI_male      GDP  BMI_female  life  \\\n",
       "0  34811059.0       2.73  0.1   3.328945  24.59620  12314.0    129.9049  75.3   \n",
       "1  19842251.0       6.43  2.0   1.474353  22.25083   7103.0    130.1247  58.3   \n",
       "2  40381860.0       2.24  0.5   4.785170  27.50170  14646.0    118.8915  75.5   \n",
       "3   2975029.0       1.40  0.1   1.804106  25.35542   7383.0    132.8108  72.5   \n",
       "4  21370348.0       1.96  0.1  18.016313  27.56373  41312.0    117.3755  81.5   \n",
       "\n",
       "   child_mortality                      Region  \n",
       "0             29.5  Middle East & North Africa  \n",
       "1            192.0          Sub-Saharan Africa  \n",
       "2             15.4                     America  \n",
       "3             20.0       Europe & Central Asia  \n",
       "4              5.2         East Asia & Pacific  "
      ]
     },
     "execution_count": 12,
     "metadata": {},
     "output_type": "execute_result"
    }
   ],
   "source": [
    "import os\n",
    "os.chdir(\"D:/GreyAtom/Datasets/09292018\")\n",
    "\n",
    "gm2008 = pd.read_csv(\"gm_2008_region.csv\")\n",
    "gm2008.head()"
   ]
  },
  {
   "cell_type": "code",
   "execution_count": 13,
   "metadata": {},
   "outputs": [
    {
     "data": {
      "text/plain": [
       "<matplotlib.collections.PathCollection at 0x29a3bffecc0>"
      ]
     },
     "execution_count": 13,
     "metadata": {},
     "output_type": "execute_result"
    },
    {
     "data": {
      "image/png": "[encoded data removed]",
      "text/plain": [
       "<Figure size 432x288 with 1 Axes>"
      ]
     },
     "metadata": {},
     "output_type": "display_data"
    }
   ],
   "source": [
    "X = gm2008[\"fertility\"]\n",
    "y = gm2008[\"life\"]\n",
    "\n",
    "plot.scatter(X, y)"
   ]
  },
  {
   "cell_type": "code",
   "execution_count": 14,
   "metadata": {},
   "outputs": [],
   "source": [
    "linreg = LinearRegression()\n",
    "\n",
    "y = y.values.reshape(-1, 1)\n",
    "X = X.values.reshape(-1, 1)"
   ]
  },
  {
   "cell_type": "code",
   "execution_count": 15,
   "metadata": {},
   "outputs": [
    {
     "data": {
      "text/plain": [
       "LinearRegression(copy_X=True, fit_intercept=True, n_jobs=1, normalize=False)"
      ]
     },
     "execution_count": 15,
     "metadata": {},
     "output_type": "execute_result"
    }
   ],
   "source": [
    "linreg.fit(X, y)"
   ]
  },
  {
   "cell_type": "code",
   "execution_count": 17,
   "metadata": {},
   "outputs": [
    {
     "data": {
      "text/plain": [
       "array([[70.82542398],\n",
       "       [54.38307171],\n",
       "       [73.00292468],\n",
       "       [76.73578303],\n",
       "       [74.2472108 ],\n",
       "       [76.69134424],\n",
       "       [74.11389443],\n",
       "       [74.55828233],\n",
       "       [72.38078162],\n",
       "       [74.82491507],\n",
       "       [76.64690545],\n",
       "       [74.86935386],\n",
       "       [70.02552576],\n",
       "       [59.53797134],\n",
       "       [71.80307735],\n",
       "       [67.49251473],\n",
       "       [70.24771971],\n",
       "       [74.51384354],\n",
       "       [76.60246666],\n",
       "       [56.11618452],\n",
       "       [54.16087776],\n",
       "       [69.4033827 ],\n",
       "       [59.98235924],\n",
       "       [75.49149691],\n",
       "       [52.6943977 ],\n",
       "       [74.55828233],\n",
       "       [72.15858767],\n",
       "       [60.51562472],\n",
       "       [60.29343077],\n",
       "       [74.46940475],\n",
       "       [61.13776778],\n",
       "       [76.60246666],\n",
       "       [76.29139513],\n",
       "       [74.55828233],\n",
       "       [66.24822862],\n",
       "       [70.82542398],\n",
       "       [69.8477706 ],\n",
       "       [72.64741436],\n",
       "       [59.36021618],\n",
       "       [60.02679803],\n",
       "       [75.75812965],\n",
       "       [70.78098519],\n",
       "       [74.73603749],\n",
       "       [74.20277201],\n",
       "       [63.93741154],\n",
       "       [57.18271548],\n",
       "       [75.00267023],\n",
       "       [76.8690994 ],\n",
       "       [64.33736065],\n",
       "       [76.46915029],\n",
       "       [64.64843218],\n",
       "       [59.22689981],\n",
       "       [59.62684892],\n",
       "       [70.78098519],\n",
       "       [67.40363715],\n",
       "       [68.42572932],\n",
       "       [77.04685456],\n",
       "       [73.53619016],\n",
       "       [71.22537308],\n",
       "       [71.93639372],\n",
       "       [74.60272112],\n",
       "       [74.06945564],\n",
       "       [69.98108697],\n",
       "       [76.78022182],\n",
       "       [72.33634283],\n",
       "       [77.00241577],\n",
       "       [71.80307735],\n",
       "       [61.80434963],\n",
       "       [76.29139513],\n",
       "       [75.9803236 ],\n",
       "       [68.11465779],\n",
       "       [59.89348166],\n",
       "       [76.64690545],\n",
       "       [75.71369086],\n",
       "       [61.67103326],\n",
       "       [57.27159306],\n",
       "       [73.84726169],\n",
       "       [72.38078162],\n",
       "       [52.64995891],\n",
       "       [76.82466061],\n",
       "       [61.00445141],\n",
       "       [75.93588481],\n",
       "       [72.51409799],\n",
       "       [76.33583392],\n",
       "       [72.42522041],\n",
       "       [72.11414888],\n",
       "       [58.33812401],\n",
       "       [73.84726169],\n",
       "       [70.06996455],\n",
       "       [75.09154781],\n",
       "       [73.53619016],\n",
       "       [70.86986277],\n",
       "       [49.22817208],\n",
       "       [56.2050621 ],\n",
       "       [74.2472108 ],\n",
       "       [70.11440334],\n",
       "       [67.04812683],\n",
       "       [71.35868945],\n",
       "       [64.87062613],\n",
       "       [69.35894391],\n",
       "       [71.49200582],\n",
       "       [68.47016811],\n",
       "       [77.04685456],\n",
       "       [76.91353819],\n",
       "       [73.18067984],\n",
       "       [77.00241577],\n",
       "       [76.33583392],\n",
       "       [60.47118593],\n",
       "       [60.24899198],\n",
       "       [76.69134424],\n",
       "       [60.1601144 ],\n",
       "       [77.26904851],\n",
       "       [77.13573214],\n",
       "       [76.60246666],\n",
       "       [51.58342795],\n",
       "       [71.66976098],\n",
       "       [76.64690545],\n",
       "       [72.64741436],\n",
       "       [61.67103326],\n",
       "       [72.24746525],\n",
       "       [66.51486136],\n",
       "       [74.42496596],\n",
       "       [76.4247115 ],\n",
       "       [66.51486136],\n",
       "       [58.33812401],\n",
       "       [76.38027271],\n",
       "       [61.27108415],\n",
       "       [74.95823144],\n",
       "       [73.89170048],\n",
       "       [73.40287379],\n",
       "       [54.78302082],\n",
       "       [76.82466061],\n",
       "       [74.64715991],\n",
       "       [73.75838411],\n",
       "       [73.58062895],\n",
       "       [72.0252713 ],\n",
       "       [74.6915987 ],\n",
       "       [56.82720516],\n",
       "       [65.84827951]])"
      ]
     },
     "execution_count": 17,
     "metadata": {},
     "output_type": "execute_result"
    }
   ],
   "source": [
    "y_pred = linreg.predict(X)\n",
    "y_pred"
   ]
  },
  {
   "cell_type": "code",
   "execution_count": 18,
   "metadata": {},
   "outputs": [
    {
     "data": {
      "text/plain": [
       "0      75.3\n",
       "1      58.3\n",
       "2      75.5\n",
       "3      72.5\n",
       "4      81.5\n",
       "5      80.4\n",
       "6      70.6\n",
       "7      72.2\n",
       "8      68.4\n",
       "9      75.3\n",
       "10     70.1\n",
       "11     79.4\n",
       "12     70.7\n",
       "13     63.2\n",
       "14     67.6\n",
       "15     70.9\n",
       "16     61.2\n",
       "17     73.9\n",
       "18     73.2\n",
       "19     59.4\n",
       "20     57.4\n",
       "21     66.2\n",
       "22     56.6\n",
       "23     80.7\n",
       "24     54.8\n",
       "25     78.9\n",
       "26     75.1\n",
       "27     62.6\n",
       "28     58.6\n",
       "29     79.7\n",
       "       ... \n",
       "109    76.4\n",
       "110    55.9\n",
       "111    80.9\n",
       "112    74.8\n",
       "113    78.5\n",
       "114    56.7\n",
       "115    55.0\n",
       "116    81.1\n",
       "117    74.3\n",
       "118    67.4\n",
       "119    69.1\n",
       "120    46.1\n",
       "121    81.1\n",
       "122    81.9\n",
       "123    69.5\n",
       "124    59.7\n",
       "125    74.1\n",
       "126    60.0\n",
       "127    71.3\n",
       "128    76.5\n",
       "129    75.1\n",
       "130    57.2\n",
       "131    68.2\n",
       "132    79.5\n",
       "133    78.2\n",
       "134    76.0\n",
       "135    68.7\n",
       "136    75.4\n",
       "137    52.0\n",
       "138    49.0\n",
       "Name: life, Length: 139, dtype: float64"
      ]
     },
     "execution_count": 18,
     "metadata": {},
     "output_type": "execute_result"
    }
   ],
   "source": [
    "gm2008[\"life\"]"
   ]
  },
  {
   "cell_type": "code",
   "execution_count": 19,
   "metadata": {},
   "outputs": [
    {
     "data": {
      "text/plain": [
       "0.6192442167740035"
      ]
     },
     "execution_count": 19,
     "metadata": {},
     "output_type": "execute_result"
    }
   ],
   "source": [
    "linreg.score(X, y)"
   ]
  },
  {
   "cell_type": "code",
   "execution_count": 24,
   "metadata": {},
   "outputs": [
    {
     "data": {
      "image/png": "[encoded data removed]",
      "text/plain": [
       "<Figure size 432x288 with 1 Axes>"
      ]
     },
     "metadata": {},
     "output_type": "display_data"
    }
   ],
   "source": [
    "plot.scatter(X, y)\n",
    "plot.plot(X, y_pred, color='Black', linewidth=3)\n",
    "plot.show()"
   ]
  },
  {
   "cell_type": "code",
   "execution_count": 27,
   "metadata": {},
   "outputs": [
    {
     "data": {
      "text/html": [
       "<div>\n",
       "<style scoped>\n",
       "    .dataframe tbody tr th:only-of-type {\n",
       "        vertical-align: middle;\n",
       "    }\n",
       "\n",
       "    .dataframe tbody tr th {\n",
       "        vertical-align: top;\n",
       "    }\n",
       "\n",
       "    .dataframe thead th {\n",
       "        text-align: right;\n",
       "    }\n",
       "</style>\n",
       "<table border=\"1\" class=\"dataframe\">\n",
       "  <thead>\n",
       "    <tr style=\"text-align: right;\">\n",
       "      <th></th>\n",
       "      <th>population</th>\n",
       "      <th>fertility</th>\n",
       "      <th>HIV</th>\n",
       "      <th>CO2</th>\n",
       "      <th>BMI_male</th>\n",
       "      <th>GDP</th>\n",
       "      <th>BMI_female</th>\n",
       "      <th>life</th>\n",
       "      <th>child_mortality</th>\n",
       "    </tr>\n",
       "  </thead>\n",
       "  <tbody>\n",
       "    <tr>\n",
       "      <th>0</th>\n",
       "      <td>34811059.0</td>\n",
       "      <td>2.73</td>\n",
       "      <td>0.1</td>\n",
       "      <td>3.328945</td>\n",
       "      <td>24.59620</td>\n",
       "      <td>12314.0</td>\n",
       "      <td>129.9049</td>\n",
       "      <td>75.3</td>\n",
       "      <td>29.5</td>\n",
       "    </tr>\n",
       "    <tr>\n",
       "      <th>1</th>\n",
       "      <td>19842251.0</td>\n",
       "      <td>6.43</td>\n",
       "      <td>2.0</td>\n",
       "      <td>1.474353</td>\n",
       "      <td>22.25083</td>\n",
       "      <td>7103.0</td>\n",
       "      <td>130.1247</td>\n",
       "      <td>58.3</td>\n",
       "      <td>192.0</td>\n",
       "    </tr>\n",
       "    <tr>\n",
       "      <th>2</th>\n",
       "      <td>40381860.0</td>\n",
       "      <td>2.24</td>\n",
       "      <td>0.5</td>\n",
       "      <td>4.785170</td>\n",
       "      <td>27.50170</td>\n",
       "      <td>14646.0</td>\n",
       "      <td>118.8915</td>\n",
       "      <td>75.5</td>\n",
       "      <td>15.4</td>\n",
       "    </tr>\n",
       "    <tr>\n",
       "      <th>3</th>\n",
       "      <td>2975029.0</td>\n",
       "      <td>1.40</td>\n",
       "      <td>0.1</td>\n",
       "      <td>1.804106</td>\n",
       "      <td>25.35542</td>\n",
       "      <td>7383.0</td>\n",
       "      <td>132.8108</td>\n",
       "      <td>72.5</td>\n",
       "      <td>20.0</td>\n",
       "    </tr>\n",
       "    <tr>\n",
       "      <th>4</th>\n",
       "      <td>21370348.0</td>\n",
       "      <td>1.96</td>\n",
       "      <td>0.1</td>\n",
       "      <td>18.016313</td>\n",
       "      <td>27.56373</td>\n",
       "      <td>41312.0</td>\n",
       "      <td>117.3755</td>\n",
       "      <td>81.5</td>\n",
       "      <td>5.2</td>\n",
       "    </tr>\n",
       "  </tbody>\n",
       "</table>\n",
       "</div>"
      ],
      "text/plain": [
       "   population  fertility  HIV        CO2  BMI_male      GDP  BMI_female  life  \\\n",
       "0  34811059.0       2.73  0.1   3.328945  24.59620  12314.0    129.9049  75.3   \n",
       "1  19842251.0       6.43  2.0   1.474353  22.25083   7103.0    130.1247  58.3   \n",
       "2  40381860.0       2.24  0.5   4.785170  27.50170  14646.0    118.8915  75.5   \n",
       "3   2975029.0       1.40  0.1   1.804106  25.35542   7383.0    132.8108  72.5   \n",
       "4  21370348.0       1.96  0.1  18.016313  27.56373  41312.0    117.3755  81.5   \n",
       "\n",
       "   child_mortality  \n",
       "0             29.5  \n",
       "1            192.0  \n",
       "2             15.4  \n",
       "3             20.0  \n",
       "4              5.2  "
      ]
     },
     "execution_count": 27,
     "metadata": {},
     "output_type": "execute_result"
    }
   ],
   "source": [
    "gm2008 = pd.read_csv(\"gm_2008_region.csv\")\n",
    "gm2008 = gm2008.drop([\"Region\"], axis = 1)\n",
    "gm2008.head()"
   ]
  },
  {
   "cell_type": "code",
   "execution_count": 30,
   "metadata": {},
   "outputs": [],
   "source": [
    "X = gm2008.drop([\"life\"], axis=1)\n",
    "y = gm2008[\"life\"]\n"
   ]
  },
  {
   "cell_type": "code",
   "execution_count": 31,
   "metadata": {},
   "outputs": [],
   "source": [
    "X_train, X_test, y_train, y_test = tts(X, y, test_size = 0.3, random_state = 43)"
   ]
  },
  {
   "cell_type": "code",
   "execution_count": 35,
   "metadata": {},
   "outputs": [
    {
     "data": {
      "text/plain": [
       "LinearRegression(copy_X=True, fit_intercept=True, n_jobs=1, normalize=False)"
      ]
     },
     "execution_count": 35,
     "metadata": {},
     "output_type": "execute_result"
    }
   ],
   "source": [
    "reg_all = LinearRegression()\n",
    "reg_all.fit(X_train, y_train)"
   ]
  },
  {
   "cell_type": "code",
   "execution_count": 40,
   "metadata": {},
   "outputs": [],
   "source": [
    "y_pred = reg_all.predict(X_test)"
   ]
  },
  {
   "cell_type": "code",
   "execution_count": 41,
   "metadata": {},
   "outputs": [
    {
     "data": {
      "text/plain": [
       "0.8852965321157262"
      ]
     },
     "execution_count": 41,
     "metadata": {},
     "output_type": "execute_result"
    }
   ],
   "source": [
    "reg_all.score(X_test, y_test)"
   ]
  },
  {
   "cell_type": "code",
   "execution_count": 43,
   "metadata": {},
   "outputs": [
    {
     "data": {
      "text/plain": [
       "2.942513452989919"
      ]
     },
     "execution_count": 43,
     "metadata": {},
     "output_type": "execute_result"
    }
   ],
   "source": [
    "rmse = np.sqrt(mean_squared_error(y_test, y_pred))\n",
    "rmse"
   ]
  },
  {
   "cell_type": "code",
   "execution_count": 45,
   "metadata": {},
   "outputs": [
    {
     "name": "stdout",
     "output_type": "stream",
     "text": [
      "0.8718712782622258\n",
      "0.8436128620131369\n"
     ]
    }
   ],
   "source": [
    "reg = LinearRegression()\n",
    "\n",
    "cvscores_3 = cross_val_score(reg, X, y,cv = 3)\n",
    "print(np.mean(cvscores_3))\n",
    "\n",
    "cvscores_10 = cross_val_score(reg, X, y,cv = 10)\n",
    "print(np.mean(cvscores_10))"
   ]
  },
  {
   "cell_type": "code",
   "execution_count": 48,
   "metadata": {},
   "outputs": [
    {
     "name": "stdout",
     "output_type": "stream",
     "text": [
      "[-0.         -0.         -0.          0.          0.          0.\n",
      " -0.         -0.07087587]\n"
     ]
    }
   ],
   "source": [
    "lasso = Lasso(alpha=0.4, normalize=True)\n",
    "lasso.fit(X, y)\n",
    "lasso_coef = lasso.coef_\n",
    "print(lasso_coef)"
   ]
  },
  {
   "cell_type": "code",
   "execution_count": null,
   "metadata": {},
   "outputs": [],
   "source": []
  }
 ],
 "metadata": {
  "kernelspec": {
   "display_name": "Python 3",
   "language": "python",
   "name": "python3"
  },
  "language_info": {
   "codemirror_mode": {
    "name": "ipython",
    "version": 3
   },
   "file_extension": ".py",
   "mimetype": "text/x-python",
   "name": "python",
   "nbconvert_exporter": "python",
   "pygments_lexer": "ipython3",
   "version": "3.6.5"
  }
 },
 "nbformat": 4,
 "nbformat_minor": 2
}
