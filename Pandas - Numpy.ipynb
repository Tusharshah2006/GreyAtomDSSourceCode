{
 "cells": [
  {
   "cell_type": "code",
   "execution_count": 4,
   "metadata": {},
   "outputs": [],
   "source": [
    "import os\n",
    "import numpy as np\n",
    "import pandas as pd\n",
    "os.chdir ('D:\\GreyAtom\\Datasets')"
   ]
  },
  {
   "cell_type": "code",
   "execution_count": 9,
   "metadata": {},
   "outputs": [],
   "source": [
    "taxis_data_np = np.genfromtxt(\"nyc_taxis.csv\", delimiter=',', skip_header=1)\n",
    "taxi_data_pd = pd.read_csv(\"nyc_taxis.csv\")"
   ]
  },
  {
   "cell_type": "code",
   "execution_count": 10,
   "metadata": {},
   "outputs": [],
   "source": [
    "taxi_ten_np = taxis_data_np[:10]"
   ]
  },
  {
   "cell_type": "code",
   "execution_count": 11,
   "metadata": {},
   "outputs": [
    {
     "data": {
      "text/plain": [
       "array([[2.0160e+03, 1.0000e+00, 1.0000e+00, 5.0000e+00, 0.0000e+00,\n",
       "        2.0000e+00, 4.0000e+00, 2.1000e+01, 2.0370e+03, 5.2000e+01,\n",
       "        8.0000e-01, 5.5400e+00, 1.1650e+01, 6.9990e+01, 1.0000e+00],\n",
       "       [2.0160e+03, 1.0000e+00, 1.0000e+00, 5.0000e+00, 0.0000e+00,\n",
       "        2.0000e+00, 1.0000e+00, 1.6290e+01, 1.5200e+03, 4.5000e+01,\n",
       "        1.3000e+00, 0.0000e+00, 8.0000e+00, 5.4300e+01, 1.0000e+00],\n",
       "       [2.0160e+03, 1.0000e+00, 1.0000e+00, 5.0000e+00, 0.0000e+00,\n",
       "        2.0000e+00, 6.0000e+00, 1.2700e+01, 1.4620e+03, 3.6500e+01,\n",
       "        1.3000e+00, 0.0000e+00, 0.0000e+00, 3.7800e+01, 2.0000e+00],\n",
       "       [2.0160e+03, 1.0000e+00, 1.0000e+00, 5.0000e+00, 0.0000e+00,\n",
       "        2.0000e+00, 6.0000e+00, 8.7000e+00, 1.2100e+03, 2.6000e+01,\n",
       "        1.3000e+00, 0.0000e+00, 5.4600e+00, 3.2760e+01, 1.0000e+00],\n",
       "       [2.0160e+03, 1.0000e+00, 1.0000e+00, 5.0000e+00, 0.0000e+00,\n",
       "        2.0000e+00, 6.0000e+00, 5.5600e+00, 7.5900e+02, 1.7500e+01,\n",
       "        1.3000e+00, 0.0000e+00, 0.0000e+00, 1.8800e+01, 2.0000e+00],\n",
       "       [2.0160e+03, 1.0000e+00, 1.0000e+00, 5.0000e+00, 0.0000e+00,\n",
       "        4.0000e+00, 2.0000e+00, 2.1450e+01, 2.0040e+03, 5.2000e+01,\n",
       "        8.0000e-01, 0.0000e+00, 5.2800e+01, 1.0560e+02, 1.0000e+00],\n",
       "       [2.0160e+03, 1.0000e+00, 1.0000e+00, 5.0000e+00, 0.0000e+00,\n",
       "        2.0000e+00, 6.0000e+00, 8.4500e+00, 9.2700e+02, 2.4500e+01,\n",
       "        1.3000e+00, 0.0000e+00, 6.4500e+00, 3.2250e+01, 1.0000e+00],\n",
       "       [2.0160e+03, 1.0000e+00, 1.0000e+00, 5.0000e+00, 0.0000e+00,\n",
       "        2.0000e+00, 6.0000e+00, 7.3000e+00, 7.3100e+02, 2.1500e+01,\n",
       "        1.3000e+00, 0.0000e+00, 0.0000e+00, 2.2800e+01, 2.0000e+00],\n",
       "       [2.0160e+03, 1.0000e+00, 1.0000e+00, 5.0000e+00, 0.0000e+00,\n",
       "        2.0000e+00, 5.0000e+00, 3.6300e+01, 2.5620e+03, 1.0950e+02,\n",
       "        8.0000e-01, 1.1080e+01, 1.0000e+01, 1.3138e+02, 1.0000e+00],\n",
       "       [2.0160e+03, 1.0000e+00, 1.0000e+00, 5.0000e+00, 0.0000e+00,\n",
       "        6.0000e+00, 2.0000e+00, 1.2460e+01, 1.3510e+03, 3.6000e+01,\n",
       "        1.3000e+00, 0.0000e+00, 0.0000e+00, 3.7300e+01, 2.0000e+00]])"
      ]
     },
     "execution_count": 11,
     "metadata": {},
     "output_type": "execute_result"
    }
   ],
   "source": [
    "taxi_ten_np"
   ]
  },
  {
   "cell_type": "code",
   "execution_count": 12,
   "metadata": {},
   "outputs": [],
   "source": [
    "rows_391_to_500 = taxis_data_np[391:500]"
   ]
  },
  {
   "cell_type": "code",
   "execution_count": 14,
   "metadata": {},
   "outputs": [],
   "source": [
    "rows_32_to_78_columns_5 = taxis_data_np[32:78,5]"
   ]
  },
  {
   "cell_type": "code",
   "execution_count": 15,
   "metadata": {},
   "outputs": [],
   "source": [
    "trip_distance_miles = taxis_data_np[:,7]\n",
    "trip_length_seconds = taxis_data_np[:,8]\n",
    "trip_length_hours = trip_length_seconds/3600"
   ]
  },
  {
   "cell_type": "code",
   "execution_count": 16,
   "metadata": {},
   "outputs": [
    {
     "data": {
      "text/plain": [
       "array([0.56583333, 0.42222222, 0.40611111, ..., 0.78388889, 0.30083333,\n",
       "       0.47527778])"
      ]
     },
     "execution_count": 16,
     "metadata": {},
     "output_type": "execute_result"
    }
   ],
   "source": [
    "trip_length_hours"
   ]
  },
  {
   "cell_type": "code",
   "execution_count": 17,
   "metadata": {},
   "outputs": [
    {
     "data": {
      "text/plain": [
       "23.995277777777776"
      ]
     },
     "execution_count": 17,
     "metadata": {},
     "output_type": "execute_result"
    }
   ],
   "source": [
    "trip_length_hours.max()"
   ]
  },
  {
   "cell_type": "code",
   "execution_count": 36,
   "metadata": {},
   "outputs": [],
   "source": [
    "ones = np.array([[1,1,1], [1,1,1]])"
   ]
  },
  {
   "cell_type": "code",
   "execution_count": 37,
   "metadata": {},
   "outputs": [],
   "source": [
    "zeros = np.array([0,0,0])\n",
    "zeros = zeros.reshape(1,3)"
   ]
  },
  {
   "cell_type": "code",
   "execution_count": 38,
   "metadata": {},
   "outputs": [
    {
     "data": {
      "text/plain": [
       "array([[1, 1, 1],\n",
       "       [1, 1, 1],\n",
       "       [0, 0, 0]])"
      ]
     },
     "execution_count": 38,
     "metadata": {},
     "output_type": "execute_result"
    }
   ],
   "source": [
    "concat = np.concatenate([ones, zeros], axis=0)\n",
    "concat"
   ]
  },
  {
   "cell_type": "code",
   "execution_count": 42,
   "metadata": {},
   "outputs": [],
   "source": [
    "twos = np.array([2,2,2])"
   ]
  },
  {
   "cell_type": "code",
   "execution_count": 43,
   "metadata": {},
   "outputs": [],
   "source": [
    "twos = twos.reshape(3,1)"
   ]
  },
  {
   "cell_type": "code",
   "execution_count": 45,
   "metadata": {},
   "outputs": [
    {
     "data": {
      "text/plain": [
       "array([[1, 1, 1, 2],\n",
       "       [1, 1, 1, 2],\n",
       "       [0, 0, 0, 2]])"
      ]
     },
     "execution_count": 45,
     "metadata": {},
     "output_type": "execute_result"
    }
   ],
   "source": [
    "concat_1 = np.concatenate([concat, twos], axis=1)\n",
    "concat_1"
   ]
  },
  {
   "cell_type": "code",
   "execution_count": null,
   "metadata": {},
   "outputs": [],
   "source": []
  }
 ],
 "metadata": {
  "kernelspec": {
   "display_name": "Python 3",
   "language": "python",
   "name": "python3"
  },
  "language_info": {
   "codemirror_mode": {
    "name": "ipython",
    "version": 3
   },
   "file_extension": ".py",
   "mimetype": "text/x-python",
   "name": "python",
   "nbconvert_exporter": "python",
   "pygments_lexer": "ipython3",
   "version": "3.6.5"
  }
 },
 "nbformat": 4,
 "nbformat_minor": 2
}
