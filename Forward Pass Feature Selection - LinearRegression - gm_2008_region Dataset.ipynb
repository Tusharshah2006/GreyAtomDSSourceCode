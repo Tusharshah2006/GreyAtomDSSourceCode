{
 "cells": [
  {
   "cell_type": "code",
   "execution_count": 81,
   "metadata": {},
   "outputs": [],
   "source": [
    "import os\n",
    "import pandas as pd\n",
    "import numpy as np\n",
    "import operator\n",
    "import matplotlib.pyplot as plot\n",
    "\n",
    "from sklearn.neighbors import KNeighborsClassifier\n",
    "from sklearn.metrics import auc, classification_report, confusion_matrix, mean_squared_error, roc_curve, roc_auc_score\n",
    "from sklearn.linear_model import LinearRegression, LogisticRegression\n",
    "from sklearn.model_selection import train_test_split as tts, cross_val_score,GridSearchCV\n",
    "from sklearn.neighbors import KNeighborsClassifier\n",
    "from sklearn.preprocessing import LabelEncoder, MinMaxScaler\n",
    "\n",
    "from sklearn.feature_selection import SelectKBest, chi2, RFE\n",
    "from sklearn.svm import LinearSVC"
   ]
  },
  {
   "cell_type": "code",
   "execution_count": 87,
   "metadata": {},
   "outputs": [],
   "source": [
    "os.chdir(\"D:/GreyAtom/Datasets/09292018\")\n",
    "\n",
    "df = pd.read_csv(\"gm_2008_region.csv\")\n",
    "df.head()\n",
    "\n",
    "df = pd.get_dummies(df)\n",
    "\n",
    "scaler = MinMaxScaler()\n",
    "df_scaled = pd.DataFrame(scaler.fit_transform(df), columns=df.columns)"
   ]
  },
  {
   "cell_type": "code",
   "execution_count": 88,
   "metadata": {},
   "outputs": [],
   "source": [
    "X = df.drop([\"life\"], axis = 1)\n",
    "y = df[\"life\"]"
   ]
  },
  {
   "cell_type": "code",
   "execution_count": 89,
   "metadata": {},
   "outputs": [],
   "source": [
    "def get_frwd_pass_features(cols):\n",
    "    columnList = []\n",
    "    rmseList = []\n",
    "    for col in cols:\n",
    "        columnList.append(col)\n",
    "        X_train, X_test, y_train, y_test = tts(df[columnList], y, test_size = 0.3, random_state = 42)\n",
    "        LinReg = LinearRegression()\n",
    "        LinReg.fit(X_train, y_train)\n",
    "        \n",
    "        y_pred = LinReg.predict(X_test)\n",
    "        rsquare = LinReg.score(X_test, y_test)\n",
    "\n",
    "        rmse = np.sqrt(mean_squared_error(y_test, y_pred))\n",
    "        rmseList.append(rmse)\n",
    "    print(rmseList)"
   ]
  },
  {
   "cell_type": "code",
   "execution_count": 85,
   "metadata": {
    "scrolled": true
   },
   "outputs": [
    {
     "name": "stdout",
     "output_type": "stream",
     "text": [
      "[8.176805415902251, 4.21110237281746, 4.151431767707334, 3.974856320297806, 4.275258734278281, 3.8345713655256954, 3.6667426509380125, 3.247601080036951, 3.245871543719285, 3.394191273901853, 3.3682979725268627, 3.414975467811167, 3.4052481157346324, 3.405248115734549]\n",
      "[0.21863116085300136, 0.11259632012880909, 0.11100084940393946, 0.10627958075662579, 0.11431173086305571, 0.10252864613706943, 0.09804124735126525, 0.08683425347691331, 0.08678800919034994, 0.09075377737705234, 0.0900614431156706, 0.09130950448690739, 0.09104941485916096, 0.09104941485919704]\n"
     ]
    }
   ],
   "source": [
    "get_frwd_pass_features(X.columns)\n",
    "\n",
    "X = df_scaled.drop([\"life\"], axis = 1)\n",
    "y = df_scaled[\"life\"]\n",
    "\n",
    "get_frwd_pass_features(X.columns)"
   ]
  },
  {
   "cell_type": "code",
   "execution_count": null,
   "metadata": {},
   "outputs": [],
   "source": []
  }
 ],
 "metadata": {
  "kernelspec": {
   "display_name": "Python 3",
   "language": "python",
   "name": "python3"
  },
  "language_info": {
   "codemirror_mode": {
    "name": "ipython",
    "version": 3
   },
   "file_extension": ".py",
   "mimetype": "text/x-python",
   "name": "python",
   "nbconvert_exporter": "python",
   "pygments_lexer": "ipython3",
   "version": "3.6.5"
  }
 },
 "nbformat": 4,
 "nbformat_minor": 2
}
